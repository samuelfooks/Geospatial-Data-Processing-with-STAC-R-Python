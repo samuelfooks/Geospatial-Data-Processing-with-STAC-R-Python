{
 "cells": [
  {
   "cell_type": "markdown",
   "metadata": {},
   "source": [
    "# Using STAC Catalogs and Accessing ARCO Data"
   ]
  },
  {
   "cell_type": "code",
   "execution_count": null,
   "metadata": {
    "vscode": {
     "languageId": "r"
    }
   },
   "outputs": [],
   "source": [
    "library(rstac)\n",
    "library(purrr)"
   ]
  },
  {
   "cell_type": "markdown",
   "metadata": {},
   "source": [
    "This is the EDITO STAC API endpoint: [https://catalog.dive.edito.eu/](https://catalog.dive.edito.eu/) we will use for this example. There are other STAC endpoints available, and you can replace this URL with the one you want to use.\n",
    "You can find more information [here](https://stacspec.org/en/about/datasets/#catalogs). Be aware that the structure and content of the STAC catalog may vary depending on the provider."
   ]
  },
  {
   "cell_type": "code",
   "execution_count": null,
   "metadata": {
    "vscode": {
     "languageId": "r"
    }
   },
   "outputs": [],
   "source": [
    "stac_endpoint_url <- 'https://catalog.dive.edito.eu/'"
   ]
  },
  {
   "cell_type": "markdown",
   "metadata": {},
   "source": [
    "This is a function to filter collections based on a keyword. It will be used to filter collections that contain 'temperature' in their ID or title."
   ]
  },
  {
   "cell_type": "code",
   "execution_count": null,
   "metadata": {
    "vscode": {
     "languageId": "r"
    }
   },
   "outputs": [],
   "source": [
    "filter_collections_by_keyword <- function(collections, keyword) {\n",
    "  Filter(function(col) {\n",
    "    grepl(keyword, col$id, ignore.case = TRUE) |\n",
    "      grepl(keyword, col$title, ignore.case = TRUE)\n",
    "  }, collections$collections)\n",
    "}"
   ]
  },
  {
   "cell_type": "markdown",
   "metadata": {},
   "source": [
    "Perform a request to retrieve collections from the STAC endpoint. This will return a list of collections available in the STAC catalog."
   ]
  },
  {
   "cell_type": "code",
   "execution_count": null,
   "metadata": {
    "vscode": {
     "languageId": "r"
    }
   },
   "outputs": [],
   "source": [
    "collections <- stac(stac_endpoint_url) %>%\n",
    "  collections() %>%\n",
    "  get_request()"
   ]
  },
  {
   "cell_type": "markdown",
   "metadata": {},
   "source": [
    "Then filter the collections based on the keyword 'temperature'."
   ]
  },
  {
   "cell_type": "code",
   "execution_count": null,
   "metadata": {
    "vscode": {
     "languageId": "r"
    }
   },
   "outputs": [],
   "source": [
    "filtered_collections <- filter_collections_by_keyword(collections, \"temperature\")"
   ]
  },
  {
   "cell_type": "markdown",
   "metadata": {},
   "source": [
    "Print filtered collections and allow the user to choose one. \n",
    "This block prints the titles and IDs of the filtered collections."
   ]
  },
  {
   "cell_type": "code",
   "execution_count": null,
   "metadata": {
    "vscode": {
     "languageId": "r"
    }
   },
   "outputs": [],
   "source": [
    "print_filtered_collections <- function(filtered_collections) {\n",
    "  cat(\"Filtered collections:\\n\")\n",
    "  for (i in seq_along(filtered_collections)) {\n",
    "    cat(i, \": \", filtered_collections[[i]]$title, \" (ID: \", filtered_collections[[i]]$id, \")\\n\", sep = \"\")\n",
    "  }\n",
    "}"
   ]
  },
  {
   "cell_type": "markdown",
   "metadata": {},
   "source": [
    "Here we will choose a collection based on the output above. \n",
    "Choose a number corresponding to the collection you want to select."
   ]
  },
  {
   "cell_type": "code",
   "execution_count": null,
   "metadata": {
    "vscode": {
     "languageId": "r"
    }
   },
   "outputs": [],
   "source": [
    "choose_collection <- function() {\n",
    "  cat(\"\\nEnter the number of the collection you want to choose: \")\n",
    "  as.integer(readLines(n = 1))\n",
    "}"
   ]
  },
  {
   "cell_type": "markdown",
   "metadata": {},
   "source": [
    "If the index is in the list, retrieve and print details of the chosen collection."
   ]
  },
  {
   "cell_type": "code",
   "execution_count": null,
   "metadata": {
    "vscode": {
     "languageId": "r"
    }
   },
   "outputs": [],
   "source": [
    "validate_chosen_index <- function(chosen_index, filtered_collections) {\n",
    "  !is.na(chosen_index) && chosen_index >= 1 && chosen_index <= length(filtered_collections)\n",
    "}"
   ]
  },
  {
   "cell_type": "markdown",
   "metadata": {},
   "source": [
    "Retrieve and print details of the chosen collection."
   ]
  },
  {
   "cell_type": "code",
   "execution_count": null,
   "metadata": {
    "vscode": {
     "languageId": "r"
    }
   },
   "outputs": [],
   "source": [
    "retrieve_and_print_collection_details <- function(chosen_collection) {\n",
    "  col_id <- chosen_collection$id\n",
    "  col_title <- chosen_collection$title\n",
    "  cat(\"You chose:\\n\")\n",
    "  cat(\"Collection ID:\", col_id, \"\\n\")\n",
    "  cat(\"Collection Title:\", col_title, \"\\n\")\n",
    "  list(col_id = col_id, col_title = col_title)\n",
    "}"
   ]
  },
  {
   "cell_type": "markdown",
   "metadata": {},
   "source": [
    "Create STAC object and retrieve items for the chosen collection.\n",
    "This function creates a STAC object to interact with the STAC Search API and retrieves items for the chosen collection."
   ]
  },
  {
   "cell_type": "code",
   "execution_count": null,
   "metadata": {
    "vscode": {
     "languageId": "r"
    }
   },
   "outputs": [],
   "source": [
    "create_stac_object_and_retrieve_items <- function(stac_endpoint_url, col_id) {\n",
    "  stac_obj <- stac(stac_endpoint_url)\n",
    "  items <- stac_obj %>%\n",
    "    stac_search(collections = col_id) %>%\n",
    "    get_request()\n",
    "  items\n",
    "}"
   ]
  },
  {
   "cell_type": "markdown",
   "metadata": {},
   "source": [
    "Print details of the items in the chosen collection.\n",
    "This function prints details of the items in the chosen collection, including item ID, start and end datetime, and assets."
   ]
  },
  {
   "cell_type": "code",
   "execution_count": null,
   "metadata": {
    "vscode": {
     "languageId": "r"
    }
   },
   "outputs": [],
   "source": [
    "print_item_details <- function(items, col_id) {\n",
    "  cat(\"Number of items:\", length(items$features), \"\\n\")\n",
    "  # Create an empty data frame to store item details\n",
    "  item_details <- data.frame(\n",
    "    Collection_ID = character(),\n",
    "    Item_ID = character(),\n",
    "    Start_Datetime = character(),\n",
    "    End_Datetime = character(),\n",
    "    Geometry = character(),\n",
    "    Arco_Asset = character(),\n",
    "    stringsAsFactors = FALSE\n",
    "  )\n",
    "  cat(\"Items in the chosen collection:\\n\")\n",
    "  # Loop through each item in the collection, stored in the items$features list\n",
    "  for (item in items$features) {\n",
    "    # use the item$id to get the item details\n",
    "    cat(\"Item ID: \", item$id, \"\\n\")\n",
    "     # search the item$properties for start_datetime and end_datetime\n",
    "    cat(\"Start Datetime: \", item$properties$start_datetime, \"\\n\")\n",
    "    cat(\"End Datetime: \", item$properties$end_datetime, \"\\n\")\n",
    "    cat(\"Assets:\\n\")\n",
    "    arco_asset <- NA\n",
    "    # Loop through each asset in the item$assets list\n",
    "    for (asset_name in names(item$assets)) {\n",
    "      asset <- item$assets[[asset_name]]\n",
    "      cat(\"  Asset Name: \", asset_name, \"\\n\")\n",
    "      cat(\"    Href: \", asset$href, \"\\n\")\n",
    "      cat(\"    Type: \", asset$type, \"\\n\")\n",
    "      if (!is.null(asset$title)) {\n",
    "        cat(\"    Title: \", asset$title, \"\\n\")\n",
    "      }\n",
    "      if (!is.null(asset$description)) {\n",
    "        cat(\"    Description: \", asset$description, \"\\n\")\n",
    "      }\n",
    "      # Check if the asset is a zarr or parquet file and not from datalab\n",
    "      if (grepl(\"\\\\.zarr$|\\\\.parquet$\", asset$href) && !grepl(\"datalab\", asset$href)) {\n",
    "        arco_asset <- asset$href\n",
    "      }\n",
    "    }\n",
    "    # Store the item details in the data frame\n",
    "    start_datetime <- item$properties$start_datetime\n",
    "    end_datetime <- item$properties$end_datetime\n",
    "    geometry <- item$geometry\n",
    "    item_details <- rbind(item_details, data.frame(\n",
    "      Collection_ID = col_id,\n",
    "      Item_ID = item$id,\n",
    "      Start_Datetime = start_datetime,\n",
    "      End_Datetime = end_datetime,\n",
    "      Geometry = toString(geometry),\n",
    "      Arco_Asset = arco_asset,\n",
    "      stringsAsFactors = FALSE\n",
    "    ))\n",
    "  }\n",
    "  print(item_details)\n",
    "}"
   ]
  },
  {
   "cell_type": "markdown",
   "metadata": {},
   "source": [
    "This is the main block that calls the functions defined above to filter collections, choose a collection, \n",
    "retrieve and print collection details, and retrieve and print item details."
   ]
  },
  {
   "cell_type": "code",
   "execution_count": null,
   "metadata": {
    "vscode": {
     "languageId": "r"
    }
   },
   "outputs": [],
   "source": [
    "print_filtered_collections(filtered_collections)\n",
    "chosen_index <- choose_collection()\n",
    "\n",
    "if (validate_chosen_index(chosen_index, filtered_collections)) {\n",
    "  chosen_collection <- filtered_collections[[chosen_index]]\n",
    "  collection_details <- retrieve_and_print_collection_details(chosen_collection)\n",
    "  items <- create_stac_object_and_retrieve_items(stac_endpoint_url, collection_details$col_id)\n",
    "  print_item_details(items, collection_details$col_id)\n",
    "} else {\n",
    "  cat(\"Invalid choice. Exiting.\\n\")\n",
    "}"
   ]
  }
 ],
 "metadata": {
  "kernelspec": {
   "display_name": "R",
   "language": "R",
   "name": "ir"
  },
  "language_info": {
   "codemirror_mode": "r",
   "file_extension": ".r",
   "mimetype": "text/x-r-source",
   "name": "R",
   "pygments_lexer": "r",
   "version": "4.2.0"
  },
  "title": "Using STAC Catalogs and Accessing ARCO Data"
 },
 "nbformat": 4,
 "nbformat_minor": 5
}
