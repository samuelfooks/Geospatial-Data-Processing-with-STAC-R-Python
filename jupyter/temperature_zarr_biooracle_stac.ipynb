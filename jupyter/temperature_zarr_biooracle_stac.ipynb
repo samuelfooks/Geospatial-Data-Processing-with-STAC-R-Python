{
 "cells": [
  {
   "cell_type": "markdown",
   "metadata": {},
   "source": [
    "# STAC API Data Extraction in R\n",
    "\n",
    "This notebook demonstrates how to interact with a STAC (SpatioTemporal Asset Catalog) API to fetch and filter JSON data using R. We will explore temperature-related catalogs, collections, and items, then filter for specific items based on time ranges and asset types.\n",
    "\n",
    "## Step 1: Load Required Libraries\n",
    "We first load the required R libraries for making HTTP requests, handling JSON data, and manipulating DataFrames.\n",
    "\n",
    "```r\n",
    "library(httr)\n",
    "library(jsonlite)\n",
    "library(glue)\n",
    "library(dplyr)\n",
    "library(lubridate)\n",
    "library(tidyr)"
   ]
  },
  {
   "cell_type": "markdown",
   "metadata": {},
   "source": [
    "## Step 2: Define Base STAC Endpoint\n",
    "\n",
    "Here, we define the base URL of the STAC API we are querying. We also extract the root path by removing the `catalog.json` suffix from the endpoint URL.\n",
    "\n",
    "```r\n",
    "# Base STAC endpoint\n",
    "stac_endpoint_url <- \"https://s3.waw3-1.cloudferro.com/emodnet/bio_oracle/stac/catalog.json\"\n",
    "stac_root <- dirname(stac_endpoint_url)"
   ]
  },
  {
   "cell_type": "markdown",
   "metadata": {},
   "source": [
    "## Step 3: Perform API Request to Get Catalog Data\n",
    "\n",
    "We send a GET request to the STAC API and parse the JSON response.\n",
    "\n",
    "```r\n",
    "# Perform the request to get catalog data\n",
    "response <- GET(stac_endpoint_url)\n",
    "json_data <- fromJSON(content(response, as = \"text\", encoding = \"UTF-8\"))\n"
   ]
  },
  {
   "cell_type": "markdown",
   "metadata": {},
   "source": [
    "## Step 4: Filter Catalogs Based on the String 'temperature'\n",
    "\n",
    "We filter the catalog links to find those related to 'temperature' and extract the catalog titles. This helps us narrow down to temperature-related data.\n",
    "\n",
    "```r\n",
    "# Filter catalogs within root STAC catalog based on string\n",
    "catalog_selector = 'temperature'\n",
    "selected_catalogs <- json_data$links[grep(catalog_selector, json_data$links, ignore.case = TRUE), ]\n",
    "selected_catalogs_titles <- json_data$links[grep(catalog_selector, json_data$links$title, ignore.case = TRUE), ]\n",
    "print(selected_catalogs_titles$title)\n",
    "\n",
    "# Generate catalog links\n",
    "catalog_links = glue('{stac_root}/{selected_catalogs_titles$title}/catalog.json')\n",
    "print(catalog_links)\n"
   ]
  },
  {
   "cell_type": "markdown",
   "metadata": {},
   "source": [
    "## Step 5: Loop Through and Print Catalogs\n",
    "\n",
    "We loop through the catalog links and print each one. This gives us an overview of available catalogs.\n",
    "\n",
    "```r\n",
    "# Loop through and print each catalog link\n",
    "for (i in seq_along(catalog_links)) {\n",
    "  print(catalog_links[i])\n",
    "}\n"
   ]
  },
  {
   "cell_type": "markdown",
   "metadata": {},
   "source": [
    "## Step 6: Fetch and Print Each Internal Catalog's JSON Data\n",
    "\n",
    "We fetch each catalog's JSON data and print the internal structure. This allows us to explore further into the collections within each catalog.\n",
    "\n",
    "```r\n",
    "# Loop through and print each catalog json\n",
    "for (i in seq_along(catalog_links)) {\n",
    "  internal_catalog_response = GET(catalog_links[i])\n",
    "  internal_catalog_json <- fromJSON(content(internal_catalog_response, as = \"text\", encoding = \"UTF-8\"))\n",
    "  print(internal_catalog_json)\n",
    "}\n"
   ]
  },
  {
   "cell_type": "markdown",
   "metadata": {},
   "source": [
    "## Step 7: Fetch Collections from Catalogs\n",
    "\n",
    "Next, we focus on fetching collections from a specific catalog, `oceantemperature`, and select the `thetao_mean` collection.\n",
    "\n",
    "```r\n",
    "collection_selector = 'thetao_mean'\n",
    "selected_collections <- list()\n",
    "selected_collection_items <- data.frame(item_link = character(), stringsAsFactors = FALSE)\n",
    "\n",
    "for (i in seq_along(catalog_links)){\n",
    "  if (grepl('oceantemperature', catalog_links[i], ignore.case= TRUE)){\n",
    "    cat_link = catalog_links[i]\n",
    "    cat_response = GET(cat_link)\n",
    "    cat_json <- fromJSON(content(cat_response, as = \"text\", encoding = \"UTF-8\"))\n",
    "    links = cat_json$links$href\n",
    "    for (j in seq_along((links))) {\n",
    "        if (grepl('collection.json', links[i], ignore.case=TRUE)) {\n",
    "          collection = gsub(\"^\\\\./\", \"\", dirname(links[j]))\n",
    "          selected_collections <- append(selected_collections, collection)\n",
    "          print(collection)\n",
    "        \n",
    "        if (grepl(collection_selector, collection, ignore.case = TRUE)) {\n",
    "          collection_link = glue('{dirname(cat_link)}/{collection}/collection.json')\n",
    "          collection_json <- fromJSON(content(GET(collection_link), as ='text', encoding = 'UTF-8'))\n",
    "          collection_links = collection_json$links\n",
    "          \n",
    "          matched_rows <- collection_links[grepl('item', collection_links$rel, ignore.case = TRUE), ]\n",
    "          if (nrow(matched_rows) > 0) {\n",
    "            for (k in seq_len(nrow(matched_rows))) {\n",
    "              item_href <- matched_rows[k, \"href\"]\n",
    "              item_href <- gsub(\"^\\\\./\", \"\", item_href)\n",
    "              item_link <- glue(\"{dirname(collection_link)}/{item_href}\")\n",
    "              selected_collection_items <- rbind(selected_collection_items, data.frame(item_link = as.character(item_link), stringsAsFactors = FALSE))\n",
    "            }\n",
    "          } else {\n",
    "            print(glue(\"No matches found for item: {item}\"))\n",
    "          }\n",
    "        }\n",
    "      }\n",
    "    }\n",
    "  }\n",
    "}\n"
   ]
  }
 ],
 "metadata": {
  "language_info": {
   "name": "python"
  }
 },
 "nbformat": 4,
 "nbformat_minor": 2
}
