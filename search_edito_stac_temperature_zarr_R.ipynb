{
 "cells": [
  {
   "cell_type": "markdown",
   "id": "d208d2ad",
   "metadata": {},
   "source": [
    "# Using STAC Catalogs and Accessing ARCO Data"
   ]
  },
  {
   "cell_type": "markdown",
   "id": "9f245773",
   "metadata": {},
   "source": [
    "This is the EDITO STAC API endpoint: [https://catalog.dive.edito.eu/](https://catalog.dive.edito.eu/) we will use for this example. There are other STAC endpoints available, and you can replace this URL with the one you want to use.\n",
    "You can find more information [here](https://stacspec.org/en/about/datasets/#catalogs). Be aware that the structure and content of the STAC catalog may vary depending on the provider."
   ]
  },
  {
   "cell_type": "code",
   "execution_count": 1,
   "id": "fabb4d81",
   "metadata": {
    "vscode": {
     "languageId": "r"
    }
   },
   "outputs": [],
   "source": [
    "library(rstac)\n",
    "library(purrr)"
   ]
  },
  {
   "cell_type": "code",
   "execution_count": 2,
   "id": "02351e38",
   "metadata": {
    "vscode": {
     "languageId": "r"
    }
   },
   "outputs": [],
   "source": [
    "stac_endpoint_url <- 'https://catalog.dive.edito.eu/'"
   ]
  },
  {
   "cell_type": "markdown",
   "id": "d46b2949",
   "metadata": {},
   "source": [
    "This is a function to filter collections based on a keyword. It will be used to filter collections that contain 'temperature' in their ID or title."
   ]
  },
  {
   "cell_type": "code",
   "execution_count": 3,
   "id": "2f6ffc88",
   "metadata": {
    "vscode": {
     "languageId": "r"
    }
   },
   "outputs": [],
   "source": [
    "filter_collections_by_keyword <- function(collections, keyword) {\n",
    "  Filter(function(col) {\n",
    "    grepl(keyword, col$id, ignore.case = TRUE) |\n",
    "      grepl(keyword, col$title, ignore.case = TRUE)\n",
    "  }, collections$collections)\n",
    "}"
   ]
  },
  {
   "cell_type": "markdown",
   "id": "21da7c66",
   "metadata": {},
   "source": [
    "Perform a request to retrieve collections from the STAC endpoint. This will return a list of collections available in the STAC catalog."
   ]
  },
  {
   "cell_type": "code",
   "execution_count": 4,
   "id": "fc3c5088",
   "metadata": {
    "vscode": {
     "languageId": "r"
    }
   },
   "outputs": [],
   "source": [
    "collections <- stac(stac_endpoint_url) %>%\n",
    "  collections() %>%\n",
    "  get_request()"
   ]
  },
  {
   "cell_type": "markdown",
   "id": "2489f216",
   "metadata": {},
   "source": [
    "Then filter the collections based on the keyword 'temperature'."
   ]
  },
  {
   "cell_type": "code",
   "execution_count": 5,
   "id": "e1506441",
   "metadata": {
    "vscode": {
     "languageId": "r"
    }
   },
   "outputs": [],
   "source": [
    "filtered_collections <- filter_collections_by_keyword(collections, \"temperature\")"
   ]
  },
  {
   "cell_type": "markdown",
   "id": "5a92e973",
   "metadata": {},
   "source": [
    "Print filtered collections and allow the user to choose one. \n",
    "This block prints the titles and IDs of the filtered collections."
   ]
  },
  {
   "cell_type": "code",
   "execution_count": 6,
   "id": "a034028a",
   "metadata": {
    "vscode": {
     "languageId": "r"
    }
   },
   "outputs": [],
   "source": [
    "print_filtered_collections <- function(filtered_collections) {\n",
    "  cat(\"Filtered collections:\\n\")\n",
    "  for (i in seq_along(filtered_collections)) {\n",
    "    cat(i, \": \", filtered_collections[[i]]$title, \" (ID: \", filtered_collections[[i]]$id, \")\\n\", sep = \"\")\n",
    "  }\n",
    "}"
   ]
  },
  {
   "cell_type": "markdown",
   "id": "e859b25d",
   "metadata": {},
   "source": [
    "Here we will choose a collection based on the output above. \n",
    "Choose a number corresponding to the collection you want to select."
   ]
  },
  {
   "cell_type": "code",
   "execution_count": 7,
   "id": "eb9cef24",
   "metadata": {
    "vscode": {
     "languageId": "r"
    }
   },
   "outputs": [],
   "source": [
    "choose_collection <- function() {\n",
    "  cat(\"\\nEnter the number of the collection you want to choose: \")\n",
    "  as.integer(readLines(n = 1))\n",
    "}"
   ]
  },
  {
   "cell_type": "markdown",
   "id": "567171ec",
   "metadata": {},
   "source": [
    "If the index is in the list, retrieve and print details of the chosen collection."
   ]
  },
  {
   "cell_type": "code",
   "execution_count": 8,
   "id": "5a90c8a2",
   "metadata": {
    "vscode": {
     "languageId": "r"
    }
   },
   "outputs": [],
   "source": [
    "validate_chosen_index <- function(chosen_index, filtered_collections) {\n",
    "  !is.na(chosen_index) && chosen_index >= 1 && chosen_index <= length(filtered_collections)\n",
    "}"
   ]
  },
  {
   "cell_type": "markdown",
   "id": "f8524716",
   "metadata": {},
   "source": [
    "Retrieve and print details of the chosen collection."
   ]
  },
  {
   "cell_type": "code",
   "execution_count": 9,
   "id": "99b1c4b5",
   "metadata": {
    "vscode": {
     "languageId": "r"
    }
   },
   "outputs": [],
   "source": [
    "retrieve_and_print_collection_details <- function(chosen_collection) {\n",
    "  col_id <- chosen_collection$id\n",
    "  col_title <- chosen_collection$title\n",
    "  cat(\"You chose:\\n\")\n",
    "  cat(\"Collection ID:\", col_id, \"\\n\")\n",
    "  cat(\"Collection Title:\", col_title, \"\\n\")\n",
    "  list(col_id = col_id, col_title = col_title)\n",
    "}"
   ]
  },
  {
   "cell_type": "markdown",
   "id": "45d18c01",
   "metadata": {},
   "source": [
    "Create STAC object and retrieve items for the chosen collection.\n",
    "This function creates a STAC object to interact with the STAC Search API and retrieves items for the chosen collection."
   ]
  },
  {
   "cell_type": "code",
   "execution_count": 10,
   "id": "a18f674c",
   "metadata": {
    "vscode": {
     "languageId": "r"
    }
   },
   "outputs": [],
   "source": [
    "create_stac_object_and_retrieve_items <- function(stac_endpoint_url, col_id) {\n",
    "  stac_obj <- stac(stac_endpoint_url)\n",
    "  items <- stac_obj %>%\n",
    "    stac_search(collections = col_id) %>%\n",
    "    get_request()\n",
    "  items\n",
    "}"
   ]
  },
  {
   "cell_type": "markdown",
   "id": "d1c97680",
   "metadata": {},
   "source": [
    "Print details of the items in the chosen collection.\n",
    "This function prints details of the items in the chosen collection, including item ID, start and end datetime, and assets."
   ]
  },
  {
   "cell_type": "code",
   "execution_count": 11,
   "id": "3dda0f15",
   "metadata": {
    "vscode": {
     "languageId": "r"
    }
   },
   "outputs": [],
   "source": [
    "print_item_details <- function(items, col_id) {\n",
    "  cat(\"Number of items:\", length(items$features), \"\\n\")\n",
    "  # Create an empty data frame to store item details\n",
    "  item_details <- data.frame(\n",
    "    Collection_ID = character(),\n",
    "    Item_ID = character(),\n",
    "    Start_Datetime = character(),\n",
    "    End_Datetime = character(),\n",
    "    Geometry = character(),\n",
    "    Arco_Asset = character(),\n",
    "    stringsAsFactors = FALSE\n",
    "  )\n",
    "  cat(\"Items in the chosen collection:\\n\")\n",
    "  # Loop through each item in the collection, stored in the items$features list\n",
    "  for (item in items$features) {\n",
    "    # use the item$id to get the item details\n",
    "    cat(\"Item ID: \", item$id, \"\\n\")\n",
    "     # search the item$properties for start_datetime and end_datetime\n",
    "    cat(\"Start Datetime: \", item$properties$start_datetime, \"\\n\")\n",
    "    cat(\"End Datetime: \", item$properties$end_datetime, \"\\n\")\n",
    "    cat(\"Assets:\\n\")\n",
    "    arco_asset <- NA\n",
    "    # Loop through each asset in the item$assets list\n",
    "    for (asset_name in names(item$assets)) {\n",
    "      asset <- item$assets[[asset_name]]\n",
    "      cat(\"  Asset Name: \", asset_name, \"\\n\")\n",
    "      cat(\"    Href: \", asset$href, \"\\n\")\n",
    "      cat(\"    Type: \", asset$type, \"\\n\")\n",
    "      if (!is.null(asset$title)) {\n",
    "        cat(\"    Title: \", asset$title, \"\\n\")\n",
    "      }\n",
    "      if (!is.null(asset$description)) {\n",
    "        cat(\"    Description: \", asset$description, \"\\n\")\n",
    "      }\n",
    "      # Check if the asset is a zarr or parquet file and not from datalab\n",
    "      if (grepl(\"\\\\.zarr$|\\\\.parquet$\", asset$href) && !grepl(\"datalab\", asset$href)) {\n",
    "        arco_asset <- asset$href\n",
    "      }\n",
    "    }\n",
    "    # Store the item details in the data frame\n",
    "    start_datetime <- item$properties$start_datetime\n",
    "    end_datetime <- item$properties$end_datetime\n",
    "    geometry <- item$geometry\n",
    "    item_details <- rbind(item_details, data.frame(\n",
    "      Collection_ID = col_id,\n",
    "      Item_ID = item$id,\n",
    "      Start_Datetime = start_datetime,\n",
    "      End_Datetime = end_datetime,\n",
    "      Geometry = toString(geometry),\n",
    "      Arco_Asset = arco_asset,\n",
    "      stringsAsFactors = FALSE\n",
    "    ))\n",
    "  }\n",
    "  print(item_details)\n",
    "}"
   ]
  },
  {
   "cell_type": "markdown",
   "id": "847d0d11",
   "metadata": {},
   "source": [
    "This is the main block that calls the functions defined above to filter collections, choose a collection, \n",
    "retrieve and print collection details, and retrieve and print item details."
   ]
  },
  {
   "cell_type": "code",
   "execution_count": 12,
   "id": "4b2faa1e",
   "metadata": {
    "vscode": {
     "languageId": "r"
    }
   },
   "outputs": [
    {
     "name": "stdout",
     "output_type": "stream",
     "text": [
      "Filtered collections:\n",
      "1: Air equivalent potential temperature (Climate Forecast convention) (ID: climate_forecast-air_equivalent_potential_temperature)\n",
      "2: Air equivalent temperature (Climate Forecast convention) (ID: climate_forecast-air_equivalent_temperature)\n",
      "3: Air potential temperature (Climate Forecast convention) (ID: climate_forecast-air_potential_temperature)\n",
      "4: Air pseudo equivalent potential temperature (Climate Forecast convention) (ID: climate_forecast-air_pseudo_equivalent_potential_temperature)\n",
      "5: Air pseudo equivalent temperature (Climate Forecast convention) (ID: climate_forecast-air_pseudo_equivalent_temperature)\n",
      "6: Air temperature (Climate Forecast convention) (ID: climate_forecast-air_temperature)\n",
      "7: Air temperature anomaly (Climate Forecast convention) (ID: climate_forecast-air_temperature_anomaly)\n",
      "8: Air temperature at cloud top (Climate Forecast convention) (ID: climate_forecast-air_temperature_at_cloud_top)\n",
      "9: Air temperature at effective cloud top defined by infrared radiation (Climate Forecast convention) (ID: climate_forecast-air_temperature_at_effective_cloud_top_defined_by_infrared_radiation)\n",
      "10: Air temperature lapse rate (Climate Forecast convention) (ID: climate_forecast-air_temperature_lapse_rate)\n",
      "11: Air temperature threshold (Climate Forecast convention) (ID: climate_forecast-air_temperature_threshold)\n",
      "12: Apparent air temperature (Climate Forecast convention) (ID: climate_forecast-apparent_air_temperature)\n",
      "13: Brightness temperature (Climate Forecast convention) (ID: climate_forecast-brightness_temperature)\n",
      "14: Brightness temperature anomaly (Climate Forecast convention) (ID: climate_forecast-brightness_temperature_anomaly)\n",
      "15: Brightness temperature at cloud top (Climate Forecast convention) (ID: climate_forecast-brightness_temperature_at_cloud_top)\n",
      "16: Canopy temperature (Climate Forecast convention) (ID: climate_forecast-canopy_temperature)\n",
      "17: Change over time in sea water conservative temperature (Climate Forecast convention) (ID: climate_forecast-change_over_time_in_sea_water_conservative_temperature)\n",
      "18: Change over time in sea water potential temperature (Climate Forecast convention) (ID: climate_forecast-change_over_time_in_sea_water_potential_temperature)\n",
      "19: Change over time in sea water temperature (Climate Forecast convention) (ID: climate_forecast-change_over_time_in_sea_water_temperature)\n",
      "20: Covariance over longitude of northward wind and air temperature (Climate Forecast convention) (ID: climate_forecast-covariance_over_longitude_of_northward_wind_and_air_temperature)\n",
      "21: Depth at maximum upward derivative of sea water potential temperature (Climate Forecast convention) (ID: climate_forecast-depth_at_maximum_upward_derivative_of_sea_water_potential_temperature)\n",
      "22: Depth at shallowest isotherm defined by soil temperature (Climate Forecast convention) (ID: climate_forecast-depth_at_shallowest_isotherm_defined_by_soil_temperature)\n",
      "23: Depth of isosurface of sea water potential temperature (Climate Forecast convention) (ID: climate_forecast-depth_of_isosurface_of_sea_water_potential_temperature)\n",
      "24: Dew point temperature (Climate Forecast convention) (ID: climate_forecast-dew_point_temperature)\n",
      "25: Difference between sea surface skin temperature and sea surface subskin temperature (Climate Forecast convention) (ID: climate_forecast-difference_between_sea_surface_skin_temperature_and_sea_surface_subskin_temperature)\n",
      "26: Difference between sea surface subskin temperature and sea surface foundation temperature (Climate Forecast convention) (ID: climate_forecast-difference_between_sea_surface_subskin_temperature_and_sea_surface_foundation_temperature)\n",
      "27: Difference between sea surface subskin temperature and sea surface temperature (Climate Forecast convention) (ID: climate_forecast-difference_between_sea_surface_subskin_temperature_and_sea_surface_temperature)\n",
      "28: Difference between sea surface temperature and air temperature (Climate Forecast convention) (ID: climate_forecast-difference_between_sea_surface_temperature_and_air_temperature)\n",
      "29: Dynamic tropopause potential temperature (Climate Forecast convention) (ID: climate_forecast-dynamic_tropopause_potential_temperature)\n",
      "30: Fire temperature (Climate Forecast convention) (ID: climate_forecast-fire_temperature)\n",
      "31: Freezing temperature of sea water (Climate Forecast convention) (ID: climate_forecast-freezing_temperature_of_sea_water)\n",
      "32: Heat index of air temperature (Climate Forecast convention) (ID: climate_forecast-heat_index_of_air_temperature)\n",
      "33: Integral wrt depth of product of conservative temperature and sea water density (Climate Forecast convention) (ID: climate_forecast-integral_wrt_depth_of_product_of_conservative_temperature_and_sea_water_density)\n",
      "34: Integral wrt depth of product of potential temperature and sea water density (Climate Forecast convention) (ID: climate_forecast-integral_wrt_depth_of_product_of_potential_temperature_and_sea_water_density)\n",
      "35: Integral wrt depth of sea water temperature (Climate Forecast convention) (ID: climate_forecast-integral_wrt_depth_of_sea_water_temperature)\n",
      "36: Integral wrt time of air temperature deficit (Climate Forecast convention) (ID: climate_forecast-integral_wrt_time_of_air_temperature_deficit)\n",
      "37: Integral wrt time of air temperature excess (Climate Forecast convention) (ID: climate_forecast-integral_wrt_time_of_air_temperature_excess)\n",
      "38: Land ice basal temperature (Climate Forecast convention) (ID: climate_forecast-land_ice_basal_temperature)\n",
      "39: Land ice temperature (Climate Forecast convention) (ID: climate_forecast-land_ice_temperature)\n",
      "40: Number of days with air temperature above threshold (Climate Forecast convention) (ID: climate_forecast-number_of_days_with_air_temperature_above_threshold)\n",
      "41: Number of days with air temperature below threshold (Climate Forecast convention) (ID: climate_forecast-number_of_days_with_air_temperature_below_threshold)\n",
      "42: Number of days with surface temperature below threshold (Climate Forecast convention) (ID: climate_forecast-number_of_days_with_surface_temperature_below_threshold)\n",
      "43: Ocean mixed layer thickness defined by temperature (Climate Forecast convention) (ID: climate_forecast-ocean_mixed_layer_thickness_defined_by_temperature)\n",
      "44: Perceived temperature (Climate Forecast convention) (ID: climate_forecast-perceived_temperature)\n",
      "45: Physiological equivalent temperature (Climate Forecast convention) (ID: climate_forecast-physiological_equivalent_temperature)\n",
      "46: Product of air temperature and specific humidity (Climate Forecast convention) (ID: climate_forecast-product_of_air_temperature_and_specific_humidity)\n",
      "47: Product of eastward sea water velocity and temperature (Climate Forecast convention) (ID: climate_forecast-product_of_eastward_sea_water_velocity_and_temperature)\n",
      "48: Product of eastward wind and air temperature (Climate Forecast convention) (ID: climate_forecast-product_of_eastward_wind_and_air_temperature)\n",
      "49: Product of lagrangian tendency of air pressure and air temperature (Climate Forecast convention) (ID: climate_forecast-product_of_lagrangian_tendency_of_air_pressure_and_air_temperature)\n",
      "50: Product of northward sea water velocity and temperature (Climate Forecast convention) (ID: climate_forecast-product_of_northward_sea_water_velocity_and_temperature)\n",
      "51: Product of northward wind and air temperature (Climate Forecast convention) (ID: climate_forecast-product_of_northward_wind_and_air_temperature)\n",
      "52: Product of upward air velocity and air temperature (Climate Forecast convention) (ID: climate_forecast-product_of_upward_air_velocity_and_air_temperature)\n",
      "53: Ratio of sea water potential temperature anomaly to relaxation timescale (Climate Forecast convention) (ID: climate_forecast-ratio_of_sea_water_potential_temperature_anomaly_to_relaxation_timescale)\n",
      "54: Sea ice basal temperature (Climate Forecast convention) (ID: climate_forecast-sea_ice_basal_temperature)\n",
      "55: Sea ice surface temperature (Climate Forecast convention) (ID: climate_forecast-sea_ice_surface_temperature)\n",
      "56: Sea ice temperature (Climate Forecast convention) (ID: climate_forecast-sea_ice_temperature)\n",
      "57: Sea ice temperature expressed as heat content (Climate Forecast convention) (ID: climate_forecast-sea_ice_temperature_expressed_as_heat_content)\n",
      "58: Sea surface foundation temperature (Climate Forecast convention) (ID: climate_forecast-sea_surface_foundation_temperature)\n",
      "59: Sea surface skin temperature (Climate Forecast convention) (ID: climate_forecast-sea_surface_skin_temperature)\n",
      "60: Sea surface subskin temperature (Climate Forecast convention) (ID: climate_forecast-sea_surface_subskin_temperature)\n",
      "61: Sea surface temperature (Climate Forecast convention) (ID: climate_forecast-sea_surface_temperature)\n",
      "62: Sea water added conservative temperature (Climate Forecast convention) (ID: climate_forecast-sea_water_added_conservative_temperature)\n",
      "63: Sea water added potential temperature (Climate Forecast convention) (ID: climate_forecast-sea_water_added_potential_temperature)\n",
      "64: Sea water conservative temperature (Climate Forecast convention) (ID: climate_forecast-sea_water_conservative_temperature)\n",
      "65: Sea water electrical conductivity at reference temperature (Climate Forecast convention) (ID: climate_forecast-sea_water_electrical_conductivity_at_reference_temperature)\n",
      "66: Sea water potential temperature (Climate Forecast convention) (ID: climate_forecast-sea_water_potential_temperature)\n",
      "67: Sea water potential temperature at sea floor (Climate Forecast convention) (ID: climate_forecast-sea_water_potential_temperature_at_sea_floor)\n",
      "68: Sea water potential temperature expressed as heat content (Climate Forecast convention) (ID: climate_forecast-sea_water_potential_temperature_expressed_as_heat_content)\n",
      "69: Sea water redistributed conservative temperature (Climate Forecast convention) (ID: climate_forecast-sea_water_redistributed_conservative_temperature)\n",
      "70: Sea water redistributed potential temperature (Climate Forecast convention) (ID: climate_forecast-sea_water_redistributed_potential_temperature)\n",
      "71: Sea water temperature (Climate Forecast convention) (ID: climate_forecast-sea_water_temperature)\n",
      "72: Sea water temperature anomaly (Climate Forecast convention) (ID: climate_forecast-sea_water_temperature_anomaly)\n",
      "73: Sea water temperature at sea floor (Climate Forecast convention) (ID: climate_forecast-sea_water_temperature_at_sea_floor)\n",
      "74: Sea water temperature difference (Climate Forecast convention) (ID: climate_forecast-sea_water_temperature_difference)\n",
      "75: Soil temperature (Climate Forecast convention) (ID: climate_forecast-soil_temperature)\n",
      "76: Spell length of days with air temperature above threshold (Climate Forecast convention) (ID: climate_forecast-spell_length_of_days_with_air_temperature_above_threshold)\n",
      "77: Spell length of days with air temperature below threshold (Climate Forecast convention) (ID: climate_forecast-spell_length_of_days_with_air_temperature_below_threshold)\n",
      "78: Square of air temperature (Climate Forecast convention) (ID: climate_forecast-square_of_air_temperature)\n",
      "79: Square of sea surface temperature (Climate Forecast convention) (ID: climate_forecast-square_of_sea_surface_temperature)\n",
      "80: Stagnation temperature in air (Climate Forecast convention) (ID: climate_forecast-stagnation_temperature_in_air)\n",
      "81: Surface brightness temperature (Climate Forecast convention) (ID: climate_forecast-surface_brightness_temperature)\n",
      "82: Surface temperature (Climate Forecast convention) (ID: climate_forecast-surface_temperature)\n",
      "83: Surface temperature anomaly (Climate Forecast convention) (ID: climate_forecast-surface_temperature_anomaly)\n",
      "84: Temperature at base of ice sheet model (Climate Forecast convention) (ID: climate_forecast-temperature_at_base_of_ice_sheet_model)\n",
      "85: Temperature at top of ice sheet model (Climate Forecast convention) (ID: climate_forecast-temperature_at_top_of_ice_sheet_model)\n",
      "86: Temperature difference between ambient air and air lifted adiabatically (Climate Forecast convention) (ID: climate_forecast-temperature_difference_between_ambient_air_and_air_lifted_adiabatically)\n",
      "87: Temperature difference between ambient air and air lifted adiabatically from the surface (Climate Forecast convention) (ID: climate_forecast-temperature_difference_between_ambient_air_and_air_lifted_adiabatically_from_the_surface)\n",
      "88: Temperature flux due to evaporation expressed as heat flux out of sea water (Climate Forecast convention) (ID: climate_forecast-temperature_flux_due_to_evaporation_expressed_as_heat_flux_out_of_sea_water)\n",
      "89: Temperature flux due to rainfall expressed as heat flux into sea water (Climate Forecast convention) (ID: climate_forecast-temperature_flux_due_to_rainfall_expressed_as_heat_flux_into_sea_water)\n",
      "90: Temperature flux due to runoff expressed as heat flux into sea water (Climate Forecast convention) (ID: climate_forecast-temperature_flux_due_to_runoff_expressed_as_heat_flux_into_sea_water)\n",
      "91: Temperature in ground (Climate Forecast convention) (ID: climate_forecast-temperature_in_ground)\n",
      "92: Temperature in surface snow (Climate Forecast convention) (ID: climate_forecast-temperature_in_surface_snow)\n",
      "93: Temperature of analysis of sea water (Climate Forecast convention) (ID: climate_forecast-temperature_of_analysis_of_sea_water)\n",
      "94: Temperature of sensor for oxygen in sea water (Climate Forecast convention) (ID: climate_forecast-temperature_of_sensor_for_oxygen_in_sea_water)\n",
      "95: Tendency of air temperature (Climate Forecast convention) (ID: climate_forecast-tendency_of_air_temperature)\n",
      "96: Tendency of air temperature due to advection (Climate Forecast convention) (ID: climate_forecast-tendency_of_air_temperature_due_to_advection)\n",
      "97: Tendency of air temperature due to boundary layer mixing (Climate Forecast convention) (ID: climate_forecast-tendency_of_air_temperature_due_to_boundary_layer_mixing)\n",
      "98: Tendency of air temperature due to convection (Climate Forecast convention) (ID: climate_forecast-tendency_of_air_temperature_due_to_convection)\n",
      "99: Tendency of air temperature due to diabatic processes (Climate Forecast convention) (ID: climate_forecast-tendency_of_air_temperature_due_to_diabatic_processes)\n",
      "100: Tendency of air temperature due to diffusion (Climate Forecast convention) (ID: climate_forecast-tendency_of_air_temperature_due_to_diffusion)\n",
      "101: Tendency of air temperature due to dissipation of nonorographic gravity waves (Climate Forecast convention) (ID: climate_forecast-tendency_of_air_temperature_due_to_dissipation_of_nonorographic_gravity_waves)\n",
      "102: Tendency of air temperature due to dissipation of orographic gravity waves (Climate Forecast convention) (ID: climate_forecast-tendency_of_air_temperature_due_to_dissipation_of_orographic_gravity_waves)\n",
      "103: Tendency of air temperature due to dry convection (Climate Forecast convention) (ID: climate_forecast-tendency_of_air_temperature_due_to_dry_convection)\n",
      "104: Tendency of air temperature due to longwave heating (Climate Forecast convention) (ID: climate_forecast-tendency_of_air_temperature_due_to_longwave_heating)\n",
      "105: Tendency of air temperature due to longwave heating assuming clear sky (Climate Forecast convention) (ID: climate_forecast-tendency_of_air_temperature_due_to_longwave_heating_assuming_clear_sky)\n",
      "106: Tendency of air temperature due to longwave heating from volcanic ambient aerosol particles (Climate Forecast convention) (ID: climate_forecast-tendency_of_air_temperature_due_to_longwave_heating_from_volcanic_ambient_aerosol_particles)\n",
      "107: Tendency of air temperature due to model physics (Climate Forecast convention) (ID: climate_forecast-tendency_of_air_temperature_due_to_model_physics)\n",
      "108: Tendency of air temperature due to moist convection (Climate Forecast convention) (ID: climate_forecast-tendency_of_air_temperature_due_to_moist_convection)\n",
      "109: Tendency of air temperature due to radiative heating (Climate Forecast convention) (ID: climate_forecast-tendency_of_air_temperature_due_to_radiative_heating)\n",
      "110: Tendency of air temperature due to shortwave heating (Climate Forecast convention) (ID: climate_forecast-tendency_of_air_temperature_due_to_shortwave_heating)\n",
      "111: Tendency of air temperature due to shortwave heating assuming clear sky (Climate Forecast convention) (ID: climate_forecast-tendency_of_air_temperature_due_to_shortwave_heating_assuming_clear_sky)\n",
      "112: Tendency of air temperature due to shortwave heating from volcanic ambient aerosol particles (Climate Forecast convention) (ID: climate_forecast-tendency_of_air_temperature_due_to_shortwave_heating_from_volcanic_ambient_aerosol_particles)\n",
      "113: Tendency of air temperature due to stratiform cloud and precipitation (Climate Forecast convention) (ID: climate_forecast-tendency_of_air_temperature_due_to_stratiform_cloud_and_precipitation)\n",
      "114: Tendency of air temperature due to stratiform cloud and precipitation and boundary layer mixing (Climate Forecast convention) (ID: climate_forecast-tendency_of_air_temperature_due_to_stratiform_cloud_and_precipitation_and_boundary_layer_mixing)\n",
      "115: Tendency of air temperature due to stratiform precipitation (Climate Forecast convention) (ID: climate_forecast-tendency_of_air_temperature_due_to_stratiform_precipitation)\n",
      "116: Tendency of air temperature due to turbulence (Climate Forecast convention) (ID: climate_forecast-tendency_of_air_temperature_due_to_turbulence)\n",
      "117: Tendency of sea water conservative temperature expressed as heat content (Climate Forecast convention) (ID: climate_forecast-tendency_of_sea_water_conservative_temperature_expressed_as_heat_content)\n",
      "118: Tendency of sea water conservative temperature expressed as heat content due to parameterized dianeutral mixing (Climate Forecast convention) (ID: climate_forecast-tendency_of_sea_water_conservative_temperature_expressed_as_heat_content_due_to_parameterized_dianeutral_mixing)\n",
      "119: Tendency of sea water conservative temperature expressed as heat content due to parameterized eddy advection (Climate Forecast convention) (ID: climate_forecast-tendency_of_sea_water_conservative_temperature_expressed_as_heat_content_due_to_parameterized_eddy_advection)\n",
      "120: Tendency of sea water conservative temperature expressed as heat content due to parameterized mesoscale eddy advection (Climate Forecast convention) (ID: climate_forecast-tendency_of_sea_water_conservative_temperature_expressed_as_heat_content_due_to_parameterized_mesoscale_eddy_advection)\n",
      "121: Tendency of sea water conservative temperature expressed as heat content due to parameterized mesoscale eddy diffusion (Climate Forecast convention) (ID: climate_forecast-tendency_of_sea_water_conservative_temperature_expressed_as_heat_content_due_to_parameterized_mesoscale_eddy_diffusion)\n",
      "122: Tendency of sea water conservative temperature expressed as heat content due to parameterized submesoscale eddy advection (Climate Forecast convention) (ID: climate_forecast-tendency_of_sea_water_conservative_temperature_expressed_as_heat_content_due_to_parameterized_submesoscale_eddy_advection)\n",
      "123: Tendency of sea water conservative temperature expressed as heat content due to residual mean advection (Climate Forecast convention) (ID: climate_forecast-tendency_of_sea_water_conservative_temperature_expressed_as_heat_content_due_to_residual_mean_advection)\n",
      "124: Tendency of sea water potential temperature expressed as heat content (Climate Forecast convention) (ID: climate_forecast-tendency_of_sea_water_potential_temperature_expressed_as_heat_content)\n",
      "125: Tendency of sea water potential temperature expressed as heat content due to parameterized dianeutral mixing (Climate Forecast convention) (ID: climate_forecast-tendency_of_sea_water_potential_temperature_expressed_as_heat_content_due_to_parameterized_dianeutral_mixing)\n",
      "126: Tendency of sea water potential temperature expressed as heat content due to parameterized eddy advection (Climate Forecast convention) (ID: climate_forecast-tendency_of_sea_water_potential_temperature_expressed_as_heat_content_due_to_parameterized_eddy_advection)\n",
      "127: Tendency of sea water potential temperature expressed as heat content due to parameterized mesoscale eddy advection (Climate Forecast convention) (ID: climate_forecast-tendency_of_sea_water_potential_temperature_expressed_as_heat_content_due_to_parameterized_mesoscale_eddy_advection)\n",
      "128: Tendency of sea water potential temperature expressed as heat content due to parameterized mesoscale eddy diffusion (Climate Forecast convention) (ID: climate_forecast-tendency_of_sea_water_potential_temperature_expressed_as_heat_content_due_to_parameterized_mesoscale_eddy_diffusion)\n",
      "129: Tendency of sea water potential temperature expressed as heat content due to parameterized submesoscale eddy advection (Climate Forecast convention) (ID: climate_forecast-tendency_of_sea_water_potential_temperature_expressed_as_heat_content_due_to_parameterized_submesoscale_eddy_advection)\n",
      "130: Tendency of sea water potential temperature expressed as heat content due to residual mean advection (Climate Forecast convention) (ID: climate_forecast-tendency_of_sea_water_potential_temperature_expressed_as_heat_content_due_to_residual_mean_advection)\n",
      "131: Tendency of sea water temperature (Climate Forecast convention) (ID: climate_forecast-tendency_of_sea_water_temperature)\n",
      "132: Tendency of sea water temperature due to advection (Climate Forecast convention) (ID: climate_forecast-tendency_of_sea_water_temperature_due_to_advection)\n",
      "133: Tendency of sea water temperature due to horizontal mixing (Climate Forecast convention) (ID: climate_forecast-tendency_of_sea_water_temperature_due_to_horizontal_mixing)\n",
      "134: Tendency of sea water temperature due to parameterized eddy advection (Climate Forecast convention) (ID: climate_forecast-tendency_of_sea_water_temperature_due_to_parameterized_eddy_advection)\n",
      "135: Tendency of sea water temperature due to vertical mixing (Climate Forecast convention) (ID: climate_forecast-tendency_of_sea_water_temperature_due_to_vertical_mixing)\n",
      "136: Tendency of thermal energy content of surface snow due to rainfall temperature excess above freezing (Climate Forecast convention) (ID: climate_forecast-tendency_of_thermal_energy_content_of_surface_snow_due_to_rainfall_temperature_excess_above_freezing)\n",
      "137: Toa brightness temperature (Climate Forecast convention) (ID: climate_forecast-toa_brightness_temperature)\n",
      "138: Toa brightness temperature assuming clear sky (Climate Forecast convention) (ID: climate_forecast-toa_brightness_temperature_assuming_clear_sky)\n",
      "139: Toa brightness temperature bias at standard scene due to intercalibration (Climate Forecast convention) (ID: climate_forecast-toa_brightness_temperature_bias_at_standard_scene_due_to_intercalibration)\n",
      "140: Toa brightness temperature of standard scene (Climate Forecast convention) (ID: climate_forecast-toa_brightness_temperature_of_standard_scene)\n",
      "141: Tropical cyclone eye brightness temperature (Climate Forecast convention) (ID: climate_forecast-tropical_cyclone_eye_brightness_temperature)\n",
      "142: Tropopause air temperature (Climate Forecast convention) (ID: climate_forecast-tropopause_air_temperature)\n",
      "143: Virtual temperature (Climate Forecast convention) (ID: climate_forecast-virtual_temperature)\n",
      "144: Wet bulb potential temperature (Climate Forecast convention) (ID: climate_forecast-wet_bulb_potential_temperature)\n",
      "145: Wet bulb temperature (Climate Forecast convention) (ID: climate_forecast-wet_bulb_temperature)\n",
      "146: Wind chill of air temperature (Climate Forecast convention) (ID: climate_forecast-wind_chill_of_air_temperature)\n",
      "\n",
      "Enter the number of the collection you want to choose: Invalid choice. Exiting.\n"
     ]
    }
   ],
   "source": [
    "print_filtered_collections(filtered_collections)\n",
    "chosen_index <- choose_collection()\n",
    "\n",
    "if (validate_chosen_index(chosen_index, filtered_collections)) {\n",
    "  chosen_collection <- filtered_collections[[chosen_index]]\n",
    "  collection_details <- retrieve_and_print_collection_details(chosen_collection)\n",
    "  items <- create_stac_object_and_retrieve_items(stac_endpoint_url, collection_details$col_id)\n",
    "  print_item_details(items, collection_details$col_id)\n",
    "} else {\n",
    "  cat(\"Invalid choice. Exiting.\\n\")\n",
    "}"
   ]
  }
 ],
 "metadata": {
  "kernelspec": {
   "display_name": "R",
   "language": "R",
   "name": "ir"
  },
  "language_info": {
   "codemirror_mode": "r",
   "file_extension": ".r",
   "mimetype": "text/x-r-source",
   "name": "R",
   "pygments_lexer": "r",
   "version": "4.4.1"
  },
  "title": "Using STAC Catalogs and Accessing ARCO Data"
 },
 "nbformat": 4,
 "nbformat_minor": 5
}
